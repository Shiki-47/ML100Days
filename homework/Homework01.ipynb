{
 "cells": [
  {
   "cell_type": "markdown",
   "metadata": {
    "id": "P6xk2_jLsvFF"
   },
   "source": [
    "# [作業目標]\n",
    "\n",
    "1. [簡答題] 請問下列兩種將 Array 轉換成 List 的方式有何不同？\n",
    "\n",
    "```\n",
    "print('list(a): ', list(a))\n",
    "print('tolist(): ', a.tolist())\n",
    "```\n",
    "\n",
    "2. 請試著在程式中印出以下三個 NdArray 的屬性？（屬性：ndim、shape、size、dtype、itemsize、length、type）\n",
    "\n",
    "```\n",
    "a = np.random.randint(10, size=6) \n",
    "b = np.random.randint(10, size=(3,4)) \n",
    "c = np.random.randint(10, size=(2,3,2)) \n",
    "```\n",
    "\n",
    "3. 如何利用 list(...) 實現 a.tolist() 的效果？試著用程式實作。\n"
   ]
  },
  {
   "cell_type": "markdown",
   "metadata": {
    "id": "uXGll28asvFS"
   },
   "source": [
    "# 作業 "
   ]
  },
  {
   "cell_type": "markdown",
   "metadata": {
    "id": "SYkvkp9YLwB7"
   },
   "source": [
    "### 1. [簡答題] 請問下列兩種將 Array 轉換成 List 的方式有何不同？\n",
    "\n",
    "```\n",
    "print('list(a): ', list(a))\n",
    "print('tolist(): ', a.tolist())\n",
    "```\n"
   ]
  },
  {
   "cell_type": "code",
   "execution_count": 1,
   "metadata": {
    "id": "5QrYoyNWsvFS",
    "outputId": "13f374d0-6f1b-47aa-bbac-c7d1a8c6995c"
   },
   "outputs": [
    {
     "data": {
      "text/plain": [
       "'\\nlist只能把數據的最外層轉換為list，因此會看到a轉化完之後的list裡面依然是三組一維的array\\ntolist則會把所有輸入都轉為list，因此最後形成的list裡面一樣是三組list\\n'"
      ]
     },
     "execution_count": 1,
     "metadata": {},
     "output_type": "execute_result"
    }
   ],
   "source": [
    "'''\n",
    "list只能把數據的最外層轉換為list，因此會看到a轉化完之後的list裡面依然是三組一維的array\n",
    "tolist則會把所有輸入都轉為list，因此最後形成的list裡面一樣是三組list\n",
    "'''"
   ]
  },
  {
   "cell_type": "markdown",
   "metadata": {
    "id": "AC9wUCyALwB9"
   },
   "source": [
    "### 2. 請試著在程式中印出以下三個 NdArray 的屬性並且解釋結果？（屬性：ndim、shape、size、dtype、itemsize、length、type）\n",
    "\n",
    "```\n",
    "a = np.random.randint(10, size=6) \n",
    "b = np.random.randint(10, size=(3,4)) \n",
    "c = np.random.randint(10, size=(2,3,2)) \n",
    "```"
   ]
  },
  {
   "cell_type": "code",
   "execution_count": 4,
   "metadata": {
    "id": "4qARRsdtLwB-"
   },
   "outputs": [],
   "source": [
    "# 記得先 Import 正確的套件\n",
    "\n",
    "import numpy as np"
   ]
  },
  {
   "cell_type": "code",
   "execution_count": 11,
   "metadata": {
    "id": "e1gVI0tvsvFY",
    "outputId": "9be10770-9042-40c8-c4bc-217b84be9fc9",
    "scrolled": true
   },
   "outputs": [
    {
     "name": "stdout",
     "output_type": "stream",
     "text": [
      "[2 9 8 7 1 3]\n",
      "1\n",
      "(6,)\n",
      "6\n",
      "int32\n",
      "4\n",
      "6\n",
      "<class 'numpy.ndarray'>\n"
     ]
    }
   ],
   "source": [
    "\n",
    "a = np.random.randint(10, size=6) \n",
    "\n",
    "print(a)\n",
    "print(a.ndim)\n",
    "print(a.shape)\n",
    "print(a.size)\n",
    "print(a.dtype)\n",
    "print(a.itemsize)\n",
    "print(len(a))\n",
    "print(type(a))"
   ]
  },
  {
   "cell_type": "markdown",
   "metadata": {},
   "source": [
    "第一列是顯示a的內容，是一個一維的陣列  \n",
    "\n",
    "第二列代表a的維度，因為是一維所以是1  \n",
    "\n",
    "第三列是a每個維度的大小，因為是一維陣列，因此維度只寫6，後面空著  \n",
    "\n",
    "第四列是a的元素數量，總共6個  \n",
    "\n",
    "第五列是資料型態，這邊設定成int32  \n",
    "\n",
    "第六列是每個元素的佔用空間，因為是int32，所以顯示出4。如果是int64，這邊就會顯示出8  \n",
    "\n",
    "第七列是a的長度，我用len函數呼叫出來，a的長度是6  \n",
    "\n",
    "第八列是a的資料型態，看到顯示結果為numpy.ndarray  \n",
    "\n"
   ]
  },
  {
   "cell_type": "code",
   "execution_count": 12,
   "metadata": {
    "id": "iIJrIr7kLwB_",
    "outputId": "083c5519-394c-404e-9764-100c4ed5118a"
   },
   "outputs": [
    {
     "name": "stdout",
     "output_type": "stream",
     "text": [
      "[[2 9 4 4]\n",
      " [1 8 0 8]\n",
      " [6 0 8 0]]\n",
      "2\n",
      "(3, 4)\n",
      "12\n",
      "int32\n",
      "4\n",
      "3\n",
      "<class 'numpy.ndarray'>\n"
     ]
    }
   ],
   "source": [
    "b = np.random.randint(10, size=(3,4)) \n",
    "\n",
    "print(b)\n",
    "print(b.ndim)\n",
    "print(b.shape)\n",
    "print(b.size)\n",
    "print(b.dtype)\n",
    "print(b.itemsize)\n",
    "print(len(b))\n",
    "print(type(b))"
   ]
  },
  {
   "cell_type": "markdown",
   "metadata": {},
   "source": [
    "第一列是顯示b的內容，是一個二維的3x4陣列  \n",
    "\n",
    "第二列代表b的維度，因為是二維所以是2  \n",
    "\n",
    "第三列是b每個維度的大小，因為是二維的3x4陣列，因此這邊顯示(3,4)  \n",
    "\n",
    "第四列是b的元素數量，總共12個  \n",
    "\n",
    "第五列是資料型態，這邊設定成int32  \n",
    "\n",
    "第六列是每個元素的佔用空間，因為是int32，所以顯示出4。如果是int64，這邊就會顯示出8  \n",
    "\n",
    "第七列是b第一個維度的長度，因此顯示出3  \n",
    "\n",
    "第八列是b的資料型態，看到顯示結果為numpy.ndarray  "
   ]
  },
  {
   "cell_type": "code",
   "execution_count": 18,
   "metadata": {
    "id": "98SRFh_FLwCC",
    "outputId": "dc65dfac-9ae6-49d2-f854-88eccebc2aac"
   },
   "outputs": [
    {
     "name": "stdout",
     "output_type": "stream",
     "text": [
      "[[[8 7]\n",
      "  [4 6]\n",
      "  [0 1]]\n",
      "\n",
      " [[6 6]\n",
      "  [3 5]\n",
      "  [4 1]]]\n",
      "3\n",
      "(2, 3, 2)\n",
      "12\n",
      "int32\n",
      "4\n",
      "2\n",
      "<class 'numpy.ndarray'>\n"
     ]
    }
   ],
   "source": [
    "c = np.random.randint(10, size=(2,3,2)) \n",
    "\n",
    "print(c)\n",
    "print(c.ndim)\n",
    "print(c.shape)\n",
    "print(c.size)\n",
    "print(c.dtype)\n",
    "print(c.itemsize)\n",
    "print(len(c))\n",
    "print(type(c))"
   ]
  },
  {
   "cell_type": "markdown",
   "metadata": {},
   "source": [
    "第一列是顯示c的內容，是一個三維的2x3x2陣列  \n",
    "\n",
    "第二列代表c的維度，因為是三維所以是3  \n",
    "\n",
    "第三列是c每個維度的大小，因為是三維的2x3x2陣列，因此這邊顯示(2, 3, 2)  \n",
    "\n",
    "第四列是c的元素數量，總共12個  \n",
    "\n",
    "第五列是資料型態，這邊設定成int32  \n",
    "\n",
    "第六列是每個元素的佔用空間，因為是int32，所以顯示出4。如果是int64，這邊就會顯示出8  \n",
    "\n",
    "第七列是c第一個維度的長度，因此顯示出2  \n",
    "\n",
    "第八列是c的資料型態，看到顯示結果為numpy.ndarray  "
   ]
  },
  {
   "cell_type": "markdown",
   "metadata": {
    "id": "Uf6zC0QZLwCE"
   },
   "source": [
    "### 3. 如何利用 list(...) 實現 a.tolist() 的效果？試著用程式實作。\n"
   ]
  },
  {
   "cell_type": "code",
   "execution_count": 121,
   "metadata": {
    "id": "sCUzHu_BLwCF",
    "outputId": "ba9c8945-8efb-42b1-f978-2bbdda97accd"
   },
   "outputs": [
    {
     "name": "stdout",
     "output_type": "stream",
     "text": [
      "[5, 2, 4, 2, 4, 2]\n",
      "[5, 2, 4, 2, 4, 2]\n"
     ]
    }
   ],
   "source": [
    "a = np.random.randint(10, size=6) \n",
    "\n",
    "print(a.tolist())\n",
    "print(list(a))\n"
   ]
  },
  {
   "cell_type": "markdown",
   "metadata": {},
   "source": [
    "因為a本身就是一維陣列，所以a.tolist與list(a)的效果相同"
   ]
  },
  {
   "cell_type": "code",
   "execution_count": 123,
   "metadata": {
    "id": "IUkVtw8RLwCG",
    "outputId": "e39875a5-5ec7-431b-c12a-485acc167e44"
   },
   "outputs": [
    {
     "name": "stdout",
     "output_type": "stream",
     "text": [
      "[[5, 7, 0, 9], [3, 2, 9, 8], [5, 0, 0, 3]]\n",
      "[array([5, 7, 0, 9]), array([3, 2, 9, 8]), array([5, 0, 0, 3])]\n",
      "[[5, 7, 0, 9], [3, 2, 9, 8], [5, 0, 0, 3]]\n"
     ]
    }
   ],
   "source": [
    "b = np.random.randint(10, size=(3,4)) \n",
    "\n",
    "print(b.tolist())\n",
    "print(list(b))\n",
    "\n",
    "\n",
    "print([list(b[0]),list(b[1]),list(b[2])])"
   ]
  },
  {
   "cell_type": "markdown",
   "metadata": {},
   "source": [
    "因為直接list(b)只會把b轉換成三層的array，因此我改成對b的每一層各自做list，這樣的結果就會與b.tolist()相同(最後一行)"
   ]
  },
  {
   "cell_type": "code",
   "execution_count": 124,
   "metadata": {
    "id": "NPhF8_CqLwCG",
    "outputId": "51fab908-5bfd-415f-9584-92bb376648c8",
    "scrolled": false
   },
   "outputs": [
    {
     "name": "stdout",
     "output_type": "stream",
     "text": [
      "[[[4, 7], [7, 6], [2, 6]], [[7, 7], [9, 3], [4, 0]]]\n",
      "[array([[4, 7],\n",
      "       [7, 6],\n",
      "       [2, 6]]), array([[7, 7],\n",
      "       [9, 3],\n",
      "       [4, 0]])]\n",
      "[[[4, 7], [7, 6], [2, 6]], [[7, 7], [9, 3], [4, 0]]]\n"
     ]
    }
   ],
   "source": [
    "c = np.random.randint(10, size=(2,3,2)) \n",
    "\n",
    "print(c.tolist())\n",
    "print(list(c))\n",
    "\n",
    "print([[list(c[0,0]),list(c[0,1]),list(c[0,2])],[list(c[1,0]),list(c[1,1]),list(c[1,2])]])"
   ]
  },
  {
   "cell_type": "code",
   "execution_count": 128,
   "metadata": {},
   "outputs": [
    {
     "data": {
      "text/plain": [
       "3"
      ]
     },
     "execution_count": 128,
     "metadata": {},
     "output_type": "execute_result"
    }
   ],
   "source": [
    "c.ndim"
   ]
  },
  {
   "cell_type": "markdown",
   "metadata": {},
   "source": [
    "跟上小題相同，對c的每一層各自做list。由於c的每一層也是2維陣列，因此還要再重複一次相同的步驟，最後就得到與c.tolist()相同的結果"
   ]
  },
  {
   "cell_type": "code",
   "execution_count": 134,
   "metadata": {
    "id": "3Hc8vQYtLwCH",
    "outputId": "1290bc93-84ca-4da4-eb1a-315da37afaff"
   },
   "outputs": [
    {
     "name": "stdout",
     "output_type": "stream",
     "text": [
      "[5, 2, 4, 2, 4, 2]\n",
      "[5, 2, 4, 2, 4, 2]\n",
      "[[5, 7, 0, 9], [3, 2, 9, 8], [5, 0, 0, 3]]\n",
      "[[5, 7, 0, 9, 3, 2, 9, 8, 5, 0, 0, 3]]\n",
      "[[[4, 7], [7, 6], [2, 6]], [[7, 7], [9, 3], [4, 0]]]\n",
      "[[[4, 7], [7, 6], [2, 6]], [[7, 7], [9, 3], [4, 0]]]\n"
     ]
    }
   ],
   "source": [
    "def tolist(iterable):    \n",
    "    if iterable.ndim==3:\n",
    "        z = []\n",
    "        x = []\n",
    "        goal = []\n",
    "        for i in range(len(iterable)):\n",
    "            for j in range(len(iterable[i])):\n",
    "                for k in range(len(iterable[i][j])):\n",
    "                    x.append(iterable[i][j][k])\n",
    "                z.append(x)\n",
    "                x = []\n",
    "            goal.append(z)\n",
    "            z=[]\n",
    "\n",
    "        return(goal)\n",
    "    elif iterable.ndim==2:\n",
    "        x = []\n",
    "        goal = []\n",
    "        for i in range(len(iterable)):\n",
    "            for j in range(len(iterable[i])):\n",
    "                x.append(iterable[i][j])\n",
    "        goal.append(x)\n",
    "        x = []\n",
    "\n",
    "        return(goal)    \n",
    "    elif iterable.ndim==1:\n",
    "        goal = list(iterable)\n",
    "        return(goal)    \n",
    "\n",
    "    \n",
    "\n",
    "    \n",
    "print(tolist(a))\n",
    "print(tolist(b))\n",
    "print(tolist(c))\n"
   ]
  },
  {
   "cell_type": "code",
   "execution_count": null,
   "metadata": {
    "id": "2lDVOwFpLwCJ",
    "outputId": "ddfa84e4-3d32-4a68-c250-f57b2f66d830"
   },
   "outputs": [
    {
     "name": "stdout",
     "output_type": "stream",
     "text": [
      "[7, 6, 7, 3, 7, 5]\n",
      "[[5, 7, 4, 6], [9, 4, 0, 1], [9, 1, 2, 9]]\n",
      "[[[0, 4], [0, 1], [9, 5]], [[8, 7], [8, 2], [6, 0]]]\n"
     ]
    }
   ],
   "source": [
    "print(a.tolist())\n",
    "print(b.tolist())\n",
    "print(c.tolist())\n"
   ]
  },
  {
   "cell_type": "markdown",
   "metadata": {
    "id": "tvqCpuFILwCK"
   },
   "source": [
    "定義的tolist函數裡面加上先判斷array維度的if判斷句，接著與之前同樣重複貼上內容形成list，可以看到結果與tolist()是相同的  \n",
    "\n",
    "但此函數只定義到維度3而已，雖然答案相同，但是如果要對應更高維的array則還要再加上判斷式"
   ]
  },
  {
   "cell_type": "markdown",
   "metadata": {
    "id": "640whg6NLwCK"
   },
   "source": [
    "## 延伸題"
   ]
  },
  {
   "cell_type": "markdown",
   "metadata": {},
   "source": [
    "#### 1.生成一個等差數列，首數為0，尾數為20，公差為1的數列。\n"
   ]
  },
  {
   "cell_type": "code",
   "execution_count": 143,
   "metadata": {},
   "outputs": [
    {
     "name": "stdout",
     "output_type": "stream",
     "text": [
      "[ 0  1  2  3  4  5  6  7  8  9 10 11 12 13 14 15 16 17 18 19 20]\n"
     ]
    }
   ],
   "source": [
    "import numpy as np\n",
    "e = np.arange(0,21,1)\n",
    "print(e)"
   ]
  },
  {
   "cell_type": "markdown",
   "metadata": {},
   "source": [
    "#### 2.呈上題，將以上數列取出偶數。"
   ]
  },
  {
   "cell_type": "code",
   "execution_count": 148,
   "metadata": {},
   "outputs": [
    {
     "data": {
      "text/plain": [
       "array([ 0,  2,  4,  6,  8, 10, 12, 14, 16, 18, 20])"
      ]
     },
     "execution_count": 148,
     "metadata": {},
     "output_type": "execute_result"
    }
   ],
   "source": [
    "e[e%2==0]"
   ]
  },
  {
   "cell_type": "markdown",
   "metadata": {},
   "source": [
    "#### 3.呈1題，將數列取出3的倍數。"
   ]
  },
  {
   "cell_type": "code",
   "execution_count": 149,
   "metadata": {},
   "outputs": [
    {
     "data": {
      "text/plain": [
       "array([ 0,  3,  6,  9, 12, 15, 18])"
      ]
     },
     "execution_count": 149,
     "metadata": {},
     "output_type": "execute_result"
    }
   ],
   "source": [
    "e[e%3==0]"
   ]
  }
 ],
 "metadata": {
  "colab": {
   "name": "01Homework_維元.ipynb",
   "provenance": []
  },
  "kernelspec": {
   "display_name": "Python 3",
   "language": "python",
   "name": "python3"
  },
  "language_info": {
   "codemirror_mode": {
    "name": "ipython",
    "version": 3
   },
   "file_extension": ".py",
   "mimetype": "text/x-python",
   "name": "python",
   "nbconvert_exporter": "python",
   "pygments_lexer": "ipython3",
   "version": "3.8.5"
  }
 },
 "nbformat": 4,
 "nbformat_minor": 1
}
